{
 "cells": [
  {
   "cell_type": "markdown",
   "id": "1c057324-1b47-4f4b-8592-7be1f565c5c1",
   "metadata": {},
   "source": [
    "# CAB420 DCNNs, Bonus Example: Fine Tuning using Keras Applications\n",
    "Dr Simon Denman (s.denman@qut.edu.au)\n",
    "\n",
    "### What is a \"Bonus\" Example?\n",
    "\n",
    "These are extra examples that cover content outside the scope of CAB420. It exists becuase of one or more of the following reasons:\n",
    "* It's closely related to other stuff we're looking at and I wanted to include it, but the course has too much content already, so I punted it here; \n",
    "* It's interesting;\n",
    "* Someone (probably multiple someones if I wrote an example) has asked a question about it before.\n",
    "\n",
    "You can freely ignore this example if you want. You really don't have to be reading this. You could go outside, go read a book, have a nap, take up a hobby, whatever you want really. The point I want to make here **this example really is optional**. Things here won't appear on an exam, or in an assignment (though you could use this in an assignment if you wanted). But if you're interested, this is here, and if you're reading this, so are you. \n",
    "\n",
    "Some things to note with bonus examples:\n",
    "* These may gloss over details that elsewhere get more coverage. I may skip plots I'd normally include, or gloss over other details. The expecatation is that if you're reading this, you've looked at all the \"core\" examples and are comfortable with what they're doing. \n",
    "* Some bits of code might not be as well explained or explored as you're used to in the other examples. These examples are here for interested students looking to extend their knowledge, and I'm assuming if you're here, you're comfortable figuring code out, debugging stuff, and generally googling about to help work out what something is doing.\n",
    "* There's no Tl;DR section at the top. If you're here, I'm assuming it's because you're interested and want all the gory details and don't just need the quick summary at the top.\n",
    "* While my regular examples (the \"core\" ones) certainly contain their fare share of silly remarks and typos, expect the level of flippancy and the prevalence of typos increase in a bonus example. \n",
    "\n",
    "That said, as always, if you are stuggling to follow what I've got in here please shoot me a message. The aim is still for this to be clear enough to follow afterall.\n",
    "\n",
    "## Overview\n",
    "\n",
    "This is another look at fine-tuning, but this time using the large pre-trained models in [Keras Applications](https://keras.io/api/applications/). This is a collection of models that have been trained on very large datasets (like ImageNet) that we can then download, modify, and re-train for our own tasks. \n",
    "\n",
    "This approach, of grabbing a large pre-trained model and fine-tuning to your own task, is extremely common when applying these methods. Training from scratch is usually not practical due to a combination of not enough data and not enough compute power.\n",
    "\n",
    "There are a number of things you can consider when fine-tuning these models, and for those interested a much more comprehensive guide is available [here](https://keras.io/guides/transfer_learning/).\n",
    "\n",
    "### Where does this fit into all the other CAB420 content?\n",
    "\n",
    "This really builds directly on the week 5 content, and is just another example of fine-tuning. It's also (kind-of) the next logical example after the TFDS primer, as I'm going to use TFDS to load the data."
   ]
  },
  {
   "cell_type": "code",
   "execution_count": 1,
   "id": "a71bdf1e-d6bf-424a-88d6-5af8dfc98407",
   "metadata": {},
   "outputs": [],
   "source": [
    "import os\n",
    "os.environ['TF_CPP_MIN_LOG_LEVEL'] = '3' \n",
    "import tensorflow_datasets as tfds\n",
    "import matplotlib.pyplot as plt\n",
    "import numpy as np\n",
    "import time\n",
    "\n",
    "import tensorflow as tf\n",
    "import keras\n",
    "from keras import layers\n",
    "\n",
    "from sklearn.metrics import confusion_matrix, ConfusionMatrixDisplay\n",
    "from sklearn.metrics import precision_score, recall_score, f1_score, classification_report\n",
    "\n",
    "import cv2\n",
    "\n",
    "tf.config.optimizer.set_jit(False)"
   ]
  },
  {
   "cell_type": "markdown",
   "id": "973cfc16-c345-451c-96b1-35758436fdda",
   "metadata": {},
   "source": [
    "### Loading a Dataset\n",
    "\n",
    "I'm going to just do exactly what was done in `CAB420_DCNNs_Bonus_Example_Tensorflow_Dataset_API.ipynb`, and just use the rock, paper, ~~shotgun~~ scissors dataset."
   ]
  },
  {
   "cell_type": "code",
   "execution_count": 2,
   "id": "f230fc3e-dc38-4631-87f6-0dd23228552a",
   "metadata": {},
   "outputs": [],
   "source": [
    "(ds_train, ds_val, ds_test), ds_info = tfds.load('rock_paper_scissors',\n",
    "    split=['train[:90%]', 'train[90%:]', 'test'],\n",
    "    shuffle_files=True,\n",
    "    as_supervised=True,\n",
    "    with_info=True,\n",
    ")\n",
    "\n",
    "batch_size = 16\n",
    "AUTOTUNE = tf.data.AUTOTUNE\n",
    "\n",
    "# resize and rescaling operations\n",
    "resize_and_rescale = keras.Sequential([\n",
    "  layers.Resizing(96, 96),\n",
    "  layers.Rescaling(1./255)\n",
    "])\n",
    "\n",
    "# augmentation operations\n",
    "augmentation = keras.Sequential([\n",
    "  layers.RandomFlip(\"horizontal\"),\n",
    "  layers.RandomRotation(0.1),\n",
    "  layers.RandomZoom((-0.1, 0.1)),\n",
    "])\n",
    "\n",
    "# function to apply rescaling and augmentation (if wanted)\n",
    "def prepare_ds(ds, augment=False):\n",
    "\n",
    "    # apply preprocessing (resizing and rescale)\n",
    "    ds = ds.map(lambda x, y: (resize_and_rescale(x), y), num_parallel_calls=AUTOTUNE)\n",
    "\n",
    "    # Use data augmentation only if requested\n",
    "    if augment:\n",
    "        ds = ds.map(lambda x, y: (augmentation(x, training=True), y), num_parallel_calls=AUTOTUNE)\n",
    "    \n",
    "    return ds\n",
    "\n",
    "# function to apply batching and prefecting\n",
    "# This could very easily be part of the \"prepare_ds\" function, but you can't call show exmaples\n",
    "# on batched data\n",
    "def batch_and_prefetch(ds):       \n",
    "    # batch the dataset\n",
    "    ds = ds.batch(batch_size)\n",
    "    \n",
    "    # use buffered prefetching\n",
    "    return ds.prefetch(buffer_size=AUTOTUNE)\n",
    "\n",
    "# Use augmentation for training data only\n",
    "ds_train = prepare_ds(ds_train, True)\n",
    "ds_val = prepare_ds(ds_val, False)\n",
    "ds_test = prepare_ds(ds_test, False)\n",
    "\n",
    "# batch and pre-fetch\n",
    "ds_train = batch_and_prefetch(ds_train)\n",
    "ds_val = batch_and_prefetch(ds_val)\n",
    "ds_test = batch_and_prefetch(ds_test)"
   ]
  },
  {
   "cell_type": "markdown",
   "id": "c635ed68-0729-4a6e-a1ac-4eb9bfaee444",
   "metadata": {},
   "source": [
    "### Picking a Network\n",
    "\n",
    "[Keras Applications](https://keras.io/api/applications/) as a few options. I'm going to go for a lightweight option here, and I can use the dirty great big table on the [Keras Applications](https://keras.io/api/applications/) page to find one by looking at:\n",
    "* The *Parameters* column, smaller numbers here means fewer parameters, and so broadly simpler networks\n",
    "* The *Time (ms) per inference step (CPU)* and *Time (ms) per inference step (GPU)* columns, which give the inference time (i.e. time to predict something) for each network. This time is not the same as the training time, but the relationship is roughly linear, so it's a good proxy.\n",
    "\n",
    "Given this, I'm going to pick a `MobileNetV2` as that's nice and light weight. The [documentation](https://keras.io/api/applications/mobilenet/) has lots of info on how to load and use these networks, and I'd encourage you to take a look at the relevant page for whatever networks you use from here, but generally everything in Keras Applications has a pretty similar API. \n",
    "\n",
    "When we load our network, we get a few options to manipulate the network. The main ones that we care about are:\n",
    "* `input_shape`, which is the shape of the input tensor, i.e. how big our input images are.\n",
    "* `include_top`, which indicates if we want to include the classification head of the pre-trained network. Generally for fine-tuning, we'll set this to `False`\n",
    "* `weights`, which tells the network what weights to use. The default is `\"imagenet\"`, i.e. the wieghts for the model trained on ImageNet. Generally, we'll just use the default (so you can actually ignore this argument - but given the importance of these pre-trained weights to the overall performance, it's worth noting this option)."
   ]
  },
  {
   "cell_type": "code",
   "execution_count": 3,
   "id": "b6350254-271d-41e8-b722-34f814efcca8",
   "metadata": {},
   "outputs": [
    {
     "name": "stdout",
     "output_type": "stream",
     "text": [
      "Downloading data from https://storage.googleapis.com/tensorflow/keras-applications/mobilenet_v2/mobilenet_v2_weights_tf_dim_ordering_tf_kernels_1.0_96_no_top.h5\n",
      "\u001b[1m9406464/9406464\u001b[0m \u001b[32m━━━━━━━━━━━━━━━━━━━━\u001b[0m\u001b[37m\u001b[0m \u001b[1m1s\u001b[0m 0us/step\n"
     ]
    }
   ],
   "source": [
    "# load the base model\n",
    "#  - image size is (100,100,3), as per the resize above\n",
    "#  - include top is false, as we'll put our own classification head on top of this\n",
    "#  - weights are imagenet (the default)\n",
    "base_model = keras.applications.MobileNetV2(input_shape = (96,96,3), include_top=False, weights='imagenet')"
   ]
  },
  {
   "cell_type": "markdown",
   "id": "79132269-c95d-4c45-90b3-ac695a9652f3",
   "metadata": {},
   "source": [
    "Once I've loaded the network, I've got to put a new classification head on it. This will just be a couple of dense layers, the last of which will have 3 neurons, as I've got three classes; then we can train the network.\n",
    "\n",
    "What we're about to do will work quite well - we've got a very simple dataset, and a large pre-trained model. But, becuase we can, we'll make this a bit bigger than it needs to be.\n",
    "\n",
    "When you look at this idea of taking pre-trained networks and adapting them, you'll see a lot of terms thrown around. There's two in particular that are worth considering:\n",
    "* Transfer Learning, which is when we take a representation learnt on one domain, and transfer that to the second\n",
    "* Fine-Tuning, which is where we take a network trained on one domain, and tweak that networks weights to better suit a new domain\n",
    "\n",
    "You will see these terms get used interchangably a times (and I will probably do it too, if I haven't already), but they do mean subtly different things. When using transfer learning, we'll typically take the representation learnt by a network as use that as input to something else, and this something else will often just be some new layers tacked on the end - but critically we'll leave the remaining part of the original network frozen. With fine-tuning, we allow part or all of the original network to change too - so it will adapt to the new domain. One pipeline that you may see out in the wild is what we're going to do below:\n",
    "* We'll first use transfer learning. We'll throw a new classification head on our network, and train just that. This will train fast (and overfit)\n",
    "* We'll then use fine-tuning to tune the entire network. When we do this, we'll use a much lower learning rate as we can overfit even worse doing this.\n",
    "\n",
    "What we're going to do is not strictly necessary, and for different applications/problems transfer learning alone will often be enough, and other times you may well jump straight to fine-tuning (particuarly when you have larger datasets or greater domain shifts). "
   ]
  },
  {
   "cell_type": "code",
   "execution_count": 4,
   "id": "9af90eee-fb15-484b-a705-8bf1cf841c71",
   "metadata": {},
   "outputs": [
    {
     "name": "stdout",
     "output_type": "stream",
     "text": [
      "Epoch 1/2\n",
      "\u001b[1m142/142\u001b[0m \u001b[32m━━━━━━━━━━━━━━━━━━━━\u001b[0m\u001b[37m\u001b[0m \u001b[1m19s\u001b[0m 77ms/step - accuracy: 0.8770 - loss: 0.3123 - val_accuracy: 1.0000 - val_loss: 0.0132\n",
      "Epoch 2/2\n",
      "\u001b[1m142/142\u001b[0m \u001b[32m━━━━━━━━━━━━━━━━━━━━\u001b[0m\u001b[37m\u001b[0m \u001b[1m3s\u001b[0m 18ms/step - accuracy: 0.9948 - loss: 0.0196 - val_accuracy: 0.9960 - val_loss: 0.0109\n"
     ]
    }
   ],
   "source": [
    "# first up, we'll set the base model to not be trainable\n",
    "base_model.trainable = False\n",
    "\n",
    "# now we'll create our new classification head\n",
    "#\n",
    "# Weirdness alert!\n",
    "#\n",
    "# we have this \"training=False\" bit here. This is becuase the base model contains batchnorm layers, which are\n",
    "# their own special thing. We want to keep the batchnorm layers in inference mode always, i.e. we don't ever\n",
    "# want to let them attempt to learn new normalisation parameters, so we'll use the training=False flag to ensure\n",
    "# that these always behave as static normalisation layers, even when we later fine-tune the whole network.\n",
    "#\n",
    "# If we weren't going to fine-tune the whole network after this initial bit, I could leave this out (and not\n",
    "# doing this is not going to have catastrophic results either).\n",
    "#\n",
    "x = base_model(base_model.input, training=False)\n",
    "x = layers.GlobalAveragePooling2D()(x)\n",
    "x = layers.Dense(64, activation='relu')(x)\n",
    "predictions = layers.Dense(3, activation='softmax')(x)\n",
    "\n",
    "# this is the model we will train\n",
    "model = keras.Model(inputs=base_model.input, outputs=predictions)\n",
    "\n",
    "# compile the model (should be done *after* setting layers to non-trainable)\n",
    "model.compile(loss=keras.losses.SparseCategoricalCrossentropy(from_logits=False),\n",
    "              optimizer=keras.optimizers.Adam(), metrics=['accuracy'], jit_compile=False)\n",
    "# fit the model\n",
    "history = model.fit(ds_train, batch_size=batch_size, epochs=2, validation_data=ds_val)"
   ]
  },
  {
   "cell_type": "code",
   "execution_count": 5,
   "id": "46997553-6e46-461d-bba9-27eb9c3b79ca",
   "metadata": {},
   "outputs": [
    {
     "name": "stdout",
     "output_type": "stream",
     "text": [
      "              precision    recall  f1-score   support\n",
      "\n",
      "           0       0.66      1.00      0.79       124\n",
      "           1       1.00      0.47      0.64       124\n",
      "           2       0.98      1.00      0.99       124\n",
      "\n",
      "    accuracy                           0.82       372\n",
      "   macro avg       0.88      0.82      0.81       372\n",
      "weighted avg       0.88      0.82      0.81       372\n",
      "\n"
     ]
    },
    {
     "data": {
      "image/png": "[encoded data removed]",
      "text/plain": [
       "<Figure size 600x600 with 2 Axes>"
      ]
     },
     "metadata": {},
     "output_type": "display_data"
    }
   ],
   "source": [
    "def eval_model_ds(model, test):\n",
    "    # pass dataset directly into predict\n",
    "    pred = model.predict(test, verbose=False);\n",
    "    # do the usual thing to get the actual predictions rather than the softmax scores\n",
    "    indexes = keras.ops.argmax(pred, axis=1)\n",
    "\n",
    "    # pull out the labels. Here we loop throuhg all the data, and just concatenate the y values,\n",
    "    # ditching the x values\n",
    "    y_test = keras.ops.concatenate([y for x, y in test], axis=0)\n",
    "\n",
    "    # and now we have our usual predictions and labels, and all is good\n",
    "    cm = confusion_matrix(y_test, indexes)\n",
    "    fig = plt.figure(figsize=[6, 6])\n",
    "    ax = fig.add_subplot(1, 1, 1)\n",
    "    c = ConfusionMatrixDisplay(cm, display_labels=range(3))\n",
    "    c.plot(ax = ax)\n",
    "\n",
    "    print(classification_report(y_test, indexes))\n",
    "\n",
    "# evaluate our model\n",
    "eval_model_ds(model, ds_test)"
   ]
  },
  {
   "cell_type": "markdown",
   "id": "65cea6f9-c633-4ac8-9873-95b4d05491e7",
   "metadata": {},
   "source": [
    "After our transfer learning pass the model is close to perfect on the training and validation data, but is not generalising all that well, with quite the drop in performance on the test set.\n",
    "\n",
    "Let's now use fine-tuning to tweak the lot. Here all we have to do is set the base model to be trainable, then recompile and re-run fit. When we recompile, we'll use a very low learning rate to try and avoid overfitting too badly."
   ]
  },
  {
   "cell_type": "code",
   "execution_count": 6,
   "id": "df652ec7-d151-4fd2-80e6-27b5a9d77016",
   "metadata": {},
   "outputs": [
    {
     "name": "stdout",
     "output_type": "stream",
     "text": [
      "Epoch 1/2\n",
      "\u001b[1m142/142\u001b[0m \u001b[32m━━━━━━━━━━━━━━━━━━━━\u001b[0m\u001b[37m\u001b[0m \u001b[1m52s\u001b[0m 162ms/step - accuracy: 0.7348 - loss: 0.7216 - val_accuracy: 0.9960 - val_loss: 0.0088\n",
      "Epoch 2/2\n",
      "\u001b[1m142/142\u001b[0m \u001b[32m━━━━━━━━━━━━━━━━━━━━\u001b[0m\u001b[37m\u001b[0m \u001b[1m3s\u001b[0m 23ms/step - accuracy: 0.9294 - loss: 0.1930 - val_accuracy: 0.9960 - val_loss: 0.0207\n",
      "              precision    recall  f1-score   support\n",
      "\n",
      "           0       0.83      1.00      0.91       124\n",
      "           1       1.00      0.79      0.88       124\n",
      "           2       1.00      1.00      1.00       124\n",
      "\n",
      "    accuracy                           0.93       372\n",
      "   macro avg       0.94      0.93      0.93       372\n",
      "weighted avg       0.94      0.93      0.93       372\n",
      "\n"
     ]
    },
    {
     "data": {
      "image/png": "[encoded data removed]",
      "text/plain": [
       "<Figure size 600x600 with 2 Axes>"
      ]
     },
     "metadata": {},
     "output_type": "display_data"
    }
   ],
   "source": [
    "# set the base to now be trainable\n",
    "base_model.trainable = True\n",
    "\n",
    "# recompile - we need to do this as we're now training different things, so need to make keras aware of this\n",
    "model.compile(loss=keras.losses.SparseCategoricalCrossentropy(from_logits=False),\n",
    "              optimizer=keras.optimizers.Adam(1e-5), metrics=['accuracy'], jit_compile=False)\n",
    "# train again\n",
    "history = model.fit(ds_train, batch_size=batch_size, epochs=2, validation_data=ds_val)\n",
    "\n",
    "eval_model_ds(model, ds_test)"
   ]
  },
  {
   "cell_type": "markdown",
   "id": "b51367df-ad0b-4de2-a435-79bf890e24ef",
   "metadata": {},
   "source": [
    "Our fine-tuning epochs are much slower. We're now tuning all the layers, not just a couple of little dense layers at the end. This itself is often a reason to avoid fine-tuning if you don't need to, though we can see that we'v got a nice little performance gain for our efforts (though this wont always be the case). To explain why we get this gain, consider what we're doing:\n",
    "* In our first *transfer learning* stage, we're taking the representation that's been learnt on a different dataset, and using that as is. Essentially, we're hoping that all the information we need for our task is in that pre-existing representation.\n",
    "* In our *fine tuning* stage, we're now allowing that pre-trained representation to change. So the network that we're using can be tweaked to extract features perfectly suited to the task at hand."
   ]
  },
  {
   "cell_type": "code",
   "execution_count": null,
   "id": "50fa87a4-8e35-48ec-8150-33066ccdca72",
   "metadata": {},
   "outputs": [],
   "source": []
  }
 ],
 "metadata": {
  "kernelspec": {
   "display_name": "Python 3 (ipykernel)",
   "language": "python",
   "name": "python3"
  },
  "language_info": {
   "codemirror_mode": {
    "name": "ipython",
    "version": 3
   },
   "file_extension": ".py",
   "mimetype": "text/x-python",
   "name": "python",
   "nbconvert_exporter": "python",
   "pygments_lexer": "ipython3",
   "version": "3.10.13"
  }
 },
 "nbformat": 4,
 "nbformat_minor": 5
}
